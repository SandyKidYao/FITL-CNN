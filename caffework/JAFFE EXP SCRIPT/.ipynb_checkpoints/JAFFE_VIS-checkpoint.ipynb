{
 "cells": [
  {
   "cell_type": "code",
   "execution_count": 1,
   "metadata": {
    "collapsed": false
   },
   "outputs": [
    {
     "name": "stderr",
     "output_type": "stream",
     "text": [
      "../../python/caffe/pycaffe.py:13: RuntimeWarning: to-Python converter for boost::shared_ptr<caffe::Net<float> > already registered; second conversion method ignored.\n",
      "  from ._caffe import Net, SGDSolver, NesterovSolver, AdaGradSolver, \\\n",
      "../../python/caffe/pycaffe.py:13: RuntimeWarning: to-Python converter for boost::shared_ptr<caffe::Blob<float> > already registered; second conversion method ignored.\n",
      "  from ._caffe import Net, SGDSolver, NesterovSolver, AdaGradSolver, \\\n",
      "../../python/caffe/pycaffe.py:13: RuntimeWarning: to-Python converter for boost::shared_ptr<caffe::Solver<float> > already registered; second conversion method ignored.\n",
      "  from ._caffe import Net, SGDSolver, NesterovSolver, AdaGradSolver, \\\n"
     ]
    }
   ],
   "source": [
    "import numpy as np\n",
    "import matplotlib.pyplot as plt\n",
    "%matplotlib inline\n",
    "plt.rcParams['figure.figsize'] = (10, 10)\n",
    "plt.rcParams['image.interpolation'] = 'nearest'\n",
    "plt.rcParams['image.cmap'] = 'gray'\n",
    "import sys\n",
    "caffe_root = '../../'\n",
    "sys.path.insert(0, caffe_root + 'python')\n",
    "import caffe\n",
    "import scipy.io as sio"
   ]
  },
  {
   "cell_type": "code",
   "execution_count": 7,
   "metadata": {
    "collapsed": true
   },
   "outputs": [],
   "source": [
    "def vis_square(data):\n",
    "    \"\"\"Take an array of shape (n, height, width) or (n, height, width, 3)\n",
    "       and visualize each (height, width) thing in a grid of size approx. sqrt(n) by sqrt(n)\"\"\"\n",
    "    \n",
    "    # normalize data for display\n",
    "    data = (data - data.min()) / (data.max() - data.min())\n",
    "    \n",
    "    # force the number of filters to be square\n",
    "    n = int(np.ceil(np.sqrt(data.shape[0])))\n",
    "    padding = (((0, n ** 2 - data.shape[0]),\n",
    "               (0, 1), (0, 1))                 # add some space between filters\n",
    "               + ((0, 0),) * (data.ndim - 3))  # don't pad the last dimension (if there is one)\n",
    "    data = np.pad(data, padding, mode='constant', constant_values=1)  # pad with ones (white)\n",
    "    \n",
    "    # tile the filters into an image\n",
    "    data = data.reshape((n, n) + data.shape[1:]).transpose((0, 2, 1, 3) + tuple(range(4, data.ndim + 1)))\n",
    "    data = data.reshape((n * data.shape[1], n * data.shape[3]) + data.shape[4:])\n",
    "    \n",
    "    plt.imshow(data); plt.axis('off')"
   ]
  },
  {
   "cell_type": "code",
   "execution_count": 8,
   "metadata": {
    "collapsed": true
   },
   "outputs": [],
   "source": [
    "# use ER CNN\n",
    "svname = 'jaffe_er_vis.mat'\n",
    "model_def = caffe_root +'yyp/JAFVIS/ER_c20c50.prototxt'\n",
    "model_weights = caffe_root+'yyp/JAFER/jaffe_er.caffemodel'\n",
    "# use ID CNN\n",
    "#svname = 'jaffe_id_vis.mat'\n",
    "#model_def = caffe_root +'yyp/JAFVIS/ID_c20c50.prototxt'\n",
    "#model_weights = caffe_root+'yyp/JAFID/jaffe_id.caffemodel'"
   ]
  },
  {
   "cell_type": "code",
   "execution_count": 6,
   "metadata": {
    "collapsed": false
   },
   "outputs": [
    {
     "name": "stdout",
     "output_type": "stream",
     "text": [
      "data\t(16, 3, 64, 64)\n",
      "label\t(16,)\n",
      "label_jaffe_1_split_0\t(16,)\n",
      "label_jaffe_1_split_1\t(16,)\n",
      "conv1\t(16, 20, 60, 60)\n",
      "pool1\t(16, 20, 30, 30)\n",
      "conv2\t(16, 50, 26, 26)\n",
      "pool2\t(16, 50, 13, 13)\n",
      "ip1\t(16, 500)\n",
      "ip2\t(16, 100)\n",
      "ip2_ip2_0_split_0\t(16, 100)\n",
      "ip2_ip2_0_split_1\t(16, 100)\n",
      "accuracy\t()\n",
      "loss\t()\n"
     ]
    }
   ],
   "source": [
    "caffe.set_mode_cpu()\n",
    "net = caffe.Net(model_def,model_weights,caffe.TEST)     \n",
    "net.forward()  \n",
    "for layer_name, blob in net.blobs.iteritems():\n",
    "    print layer_name + '\\t' + str(blob.data.shape)"
   ]
  },
  {
   "cell_type": "code",
   "execution_count": null,
   "metadata": {
    "collapsed": true
   },
   "outputs": [],
   "source": [
    "##### save output data\n",
    "c1data = net.blobs['conv1'].data\n",
    "c2data = net.blobs['conv2'].data\n",
    "p1data = net.blobs['pool1'].data\n",
    "p2data = net.blobs['pool2'].data\n",
    "i1data = net.blobs['ip1'].data\n",
    "i2data = net.blobs['ip2'].data\n",
    "labels = net.blobs['label'].data\n",
    "imgdata = net.blobs['data'].data\n",
    "sio.savemat(svname, {'labels':labels,'imgdata':imgdata,'conv1': c1data,'conv2': c2data,'pool1': p1data,'pool2': p2data,'ip1': i1data,'ip2': i2data})\n",
    "data=sio.loadmat(svname)"
   ]
  },
  {
   "cell_type": "code",
   "execution_count": null,
   "metadata": {
    "collapsed": true
   },
   "outputs": [],
   "source": [
    "feat = net.blobs['conv1'].data[1, :36]\n",
    "vis_square(feat)"
   ]
  }
 ],
 "metadata": {
  "kernelspec": {
   "display_name": "Python 2",
   "language": "python",
   "name": "python2"
  },
  "language_info": {
   "codemirror_mode": {
    "name": "ipython",
    "version": 2
   },
   "file_extension": ".py",
   "mimetype": "text/x-python",
   "name": "python",
   "nbconvert_exporter": "python",
   "pygments_lexer": "ipython2",
   "version": "2.7.6"
  }
 },
 "nbformat": 4,
 "nbformat_minor": 0
}

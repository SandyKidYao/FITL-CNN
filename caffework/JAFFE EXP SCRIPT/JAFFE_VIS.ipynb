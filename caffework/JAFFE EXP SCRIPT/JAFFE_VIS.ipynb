{
 "cells": [
  {
   "cell_type": "code",
   "execution_count": 1,
   "metadata": {
    "collapsed": false
   },
   "outputs": [
    {
     "name": "stderr",
     "output_type": "stream",
     "text": [
      "../../python/caffe/pycaffe.py:13: RuntimeWarning: to-Python converter for boost::shared_ptr<caffe::Net<float> > already registered; second conversion method ignored.\n",
      "  from ._caffe import Net, SGDSolver, NesterovSolver, AdaGradSolver, \\\n",
      "../../python/caffe/pycaffe.py:13: RuntimeWarning: to-Python converter for boost::shared_ptr<caffe::Blob<float> > already registered; second conversion method ignored.\n",
      "  from ._caffe import Net, SGDSolver, NesterovSolver, AdaGradSolver, \\\n",
      "../../python/caffe/pycaffe.py:13: RuntimeWarning: to-Python converter for boost::shared_ptr<caffe::Solver<float> > already registered; second conversion method ignored.\n",
      "  from ._caffe import Net, SGDSolver, NesterovSolver, AdaGradSolver, \\\n"
     ]
    }
   ],
   "source": [
    "import numpy as np\n",
    "import matplotlib.pyplot as plt\n",
    "%matplotlib inline\n",
    "plt.rcParams['figure.figsize'] = (10, 10)\n",
    "plt.rcParams['image.interpolation'] = 'nearest'\n",
    "plt.rcParams['image.cmap'] = 'gray'\n",
    "import sys\n",
    "caffe_root = '../../'\n",
    "sys.path.insert(0, caffe_root + 'python')\n",
    "import caffe\n",
    "import scipy.io as sio"
   ]
  },
  {
   "cell_type": "code",
   "execution_count": 2,
   "metadata": {
    "collapsed": true
   },
   "outputs": [],
   "source": [
    "def vis_square(data):\n",
    "    \"\"\"Take an array of shape (n, height, width) or (n, height, width, 3)\n",
    "       and visualize each (height, width) thing in a grid of size approx. sqrt(n) by sqrt(n)\"\"\"\n",
    "    \n",
    "    # normalize data for display\n",
    "    #data = (data - data.min()) / (data.max() - data.min())\n",
    "    \n",
    "    # force the number of filters to be square\n",
    "    n = int(np.ceil(np.sqrt(data.shape[0])))\n",
    "    padding = (((0, n ** 2 - data.shape[0]),\n",
    "               (0, 1), (0, 1))                 # add some space between filters\n",
    "               + ((0, 0),) * (data.ndim - 3))  # don't pad the last dimension (if there is one)\n",
    "    data = np.pad(data, padding, mode='constant', constant_values=1)  # pad with ones (white)\n",
    "    \n",
    "    # tile the filters into an image\n",
    "    data = data.reshape((n, n) + data.shape[1:]).transpose((0, 2, 1, 3) + tuple(range(4, data.ndim + 1)))\n",
    "    data = data.reshape((n * data.shape[1], n * data.shape[3]) + data.shape[4:])\n",
    "    \n",
    "    plt.imshow(data); plt.axis('off')"
   ]
  },
  {
   "cell_type": "code",
   "execution_count": 3,
   "metadata": {
    "collapsed": true
   },
   "outputs": [],
   "source": [
    "# use ER CNN\n",
    "svname = 'jaffe_er_vis.mat'\n",
    "model_def = caffe_root +'yyp/JAFVIS/ER_c20c50.prototxt'\n",
    "model_weights = caffe_root+'yyp/JAFER/jaffe_er.caffemodel'\n",
    "# use ID CNN\n",
    "svname = 'jaffe_id_vis.mat'\n",
    "model_def = caffe_root +'yyp/JAFVIS/ID_c20c50.prototxt'\n",
    "model_weights = caffe_root+'yyp/JAFID/jaffe_id.caffemodel'"
   ]
  },
  {
   "cell_type": "code",
   "execution_count": 4,
   "metadata": {
    "collapsed": false
   },
   "outputs": [
    {
     "name": "stdout",
     "output_type": "stream",
     "text": [
      "data\t(16, 3, 64, 64)\n",
      "label\t(16,)\n",
      "label_jaffe_1_split_0\t(16,)\n",
      "label_jaffe_1_split_1\t(16,)\n",
      "conv1\t(16, 20, 60, 60)\n",
      "pool1\t(16, 20, 30, 30)\n",
      "conv2\t(16, 50, 26, 26)\n",
      "pool2\t(16, 50, 13, 13)\n",
      "ip1\t(16, 500)\n",
      "ip2\t(16, 100)\n",
      "ip2_ip2_0_split_0\t(16, 100)\n",
      "ip2_ip2_0_split_1\t(16, 100)\n",
      "accuracy\t()\n",
      "loss\t()\n"
     ]
    }
   ],
   "source": [
    "caffe.set_mode_cpu()\n",
    "net = caffe.Net(model_def,model_weights,caffe.TEST)     \n",
    "net.forward()  \n",
    "for layer_name, blob in net.blobs.iteritems():\n",
    "    print layer_name + '\\t' + str(blob.data.shape)"
   ]
  },
  {
   "cell_type": "code",
   "execution_count": 5,
   "metadata": {
    "collapsed": false
   },
   "outputs": [],
   "source": [
    "##### save output data\n",
    "c1data = net.blobs['conv1'].data\n",
    "c2data = net.blobs['conv2'].data\n",
    "p1data = net.blobs['pool1'].data\n",
    "p2data = net.blobs['pool2'].data\n",
    "i1data = net.blobs['ip1'].data\n",
    "i2data = net.blobs['ip2'].data\n",
    "labels = net.blobs['label'].data\n",
    "imgdata = net.blobs['data'].data\n",
    "sio.savemat(svname, {'labels':labels,'imgdata':imgdata,'conv1': c1data,'conv2': c2data,'pool1': p1data,'pool2': p2data,'ip1': i1data,'ip2': i2data})\n",
    "data=sio.loadmat(svname)"
   ]
  },
  {
   "cell_type": "code",
   "execution_count": 6,
   "metadata": {
    "collapsed": false
   },
   "outputs": [
    {
     "data": {
      "text/plain": [
       "(20, 3, 5, 5)"
      ]
     },
     "execution_count": 6,
     "metadata": {},
     "output_type": "execute_result"
    },
    {
     "data": {
      "image/png": "[encoded data removed]",
      "text/plain": [
       "<matplotlib.figure.Figure at 0x7f9f60450e10>"
      ]
     },
     "metadata": {},
     "output_type": "display_data"
    }
   ],
   "source": [
    "filters = net.params['conv1'][0].data\n",
    "vis_square(filters.transpose(0, 2, 3, 1))\n",
    "filters.shape"
   ]
  },
  {
   "cell_type": "code",
   "execution_count": 8,
   "metadata": {
    "collapsed": false
   },
   "outputs": [
    {
     "data": {
      "text/plain": [
       "(array([   3.,   10.,   23.,   76.,  133.,  245.,  273.,  276.,  276.,\n",
       "         274.,  265.,  288.,  268.,  273.,  287.,  285.,  280.,  279.,\n",
       "         251.,  246.,  294.,  279.,  250.,  268.,  273.,  254.,  281.,\n",
       "         271.,  281.,  294.,  280.,  267.,  255.,  291.,  289.,  273.,\n",
       "         265.,  275.,  246.,  276.,  296.,  289.,  297.,  281.,  301.,\n",
       "         270.,  263.,  297.,  266.,  269.,  274.,  286.,  291.,  267.,\n",
       "         284.,  265.,  285.,  270.,  274.,  295.,  298.,  280.,  264.,\n",
       "         248.,  310.,  282.,  292.,  250.,  275.,  293.,  252.,  251.,\n",
       "         310.,  271.,  267.,  252.,  280.,  260.,  299.,  289.,  285.,\n",
       "         288.,  307.,  270.,  255.,  277.,  244.,  275.,  234.,  273.,\n",
       "         266.,  288.,  244.,  213.,  190.,  114.,   40.,   16.,    4.,    1.]),\n",
       " array([ -8.66638795e-02,  -8.49656641e-02,  -8.32674487e-02,\n",
       "         -8.15692333e-02,  -7.98710179e-02,  -7.81728026e-02,\n",
       "         -7.64745872e-02,  -7.47763718e-02,  -7.30781564e-02,\n",
       "         -7.13799410e-02,  -6.96817257e-02,  -6.79835103e-02,\n",
       "         -6.62852949e-02,  -6.45870795e-02,  -6.28888641e-02,\n",
       "         -6.11906487e-02,  -5.94924334e-02,  -5.77942180e-02,\n",
       "         -5.60960026e-02,  -5.43977872e-02,  -5.26995718e-02,\n",
       "         -5.10013565e-02,  -4.93031411e-02,  -4.76049257e-02,\n",
       "         -4.59067103e-02,  -4.42084949e-02,  -4.25102796e-02,\n",
       "         -4.08120642e-02,  -3.91138488e-02,  -3.74156334e-02,\n",
       "         -3.57174180e-02,  -3.40192027e-02,  -3.23209873e-02,\n",
       "         -3.06227719e-02,  -2.89245565e-02,  -2.72263411e-02,\n",
       "         -2.55281258e-02,  -2.38299104e-02,  -2.21316950e-02,\n",
       "         -2.04334796e-02,  -1.87352642e-02,  -1.70370489e-02,\n",
       "         -1.53388335e-02,  -1.36406181e-02,  -1.19424027e-02,\n",
       "         -1.02441873e-02,  -8.54597196e-03,  -6.84775658e-03,\n",
       "         -5.14954120e-03,  -3.45132582e-03,  -1.75311044e-03,\n",
       "         -5.48950583e-05,   1.64332032e-03,   3.34153570e-03,\n",
       "          5.03975108e-03,   6.73796646e-03,   8.43618184e-03,\n",
       "          1.01343972e-02,   1.18326126e-02,   1.35308280e-02,\n",
       "          1.52290434e-02,   1.69272587e-02,   1.86254741e-02,\n",
       "          2.03236895e-02,   2.20219049e-02,   2.37201203e-02,\n",
       "          2.54183356e-02,   2.71165510e-02,   2.88147664e-02,\n",
       "          3.05129818e-02,   3.22111972e-02,   3.39094125e-02,\n",
       "          3.56076279e-02,   3.73058433e-02,   3.90040587e-02,\n",
       "          4.07022741e-02,   4.24004894e-02,   4.40987048e-02,\n",
       "          4.57969202e-02,   4.74951356e-02,   4.91933510e-02,\n",
       "          5.08915664e-02,   5.25897817e-02,   5.42879971e-02,\n",
       "          5.59862125e-02,   5.76844279e-02,   5.93826433e-02,\n",
       "          6.10808586e-02,   6.27790740e-02,   6.44772894e-02,\n",
       "          6.61755048e-02,   6.78737202e-02,   6.95719355e-02,\n",
       "          7.12701509e-02,   7.29683663e-02,   7.46665817e-02,\n",
       "          7.63647971e-02,   7.80630124e-02,   7.97612278e-02,\n",
       "          8.14594432e-02,   8.31576586e-02]),\n",
       " <a list of 100 Patch objects>)"
      ]
     },
     "execution_count": 8,
     "metadata": {},
     "output_type": "execute_result"
    },
    {
     "data": {
      "image/png": "[encoded data removed]",
      "text/plain": [
       "<matplotlib.figure.Figure at 0x7f9f0ffc9310>"
      ]
     },
     "metadata": {},
     "output_type": "display_data"
    }
   ],
   "source": [
    "\n",
    "#vis_square(filters.transpose(0, 2, 3, 1))\n",
    "#filters.shape\n",
    "#plt.plot(filters.flat)\n",
    "filters = net.params['conv2'][0].data\n",
    "plt.hist(filters.flat, bins=100)"
   ]
  },
  {
   "cell_type": "code",
   "execution_count": null,
   "metadata": {
    "collapsed": true
   },
   "outputs": [],
   "source": []
  }
 ],
 "metadata": {
  "kernelspec": {
   "display_name": "Python 2",
   "language": "python",
   "name": "python2"
  },
  "language_info": {
   "codemirror_mode": {
    "name": "ipython",
    "version": 2
   },
   "file_extension": ".py",
   "mimetype": "text/x-python",
   "name": "python",
   "nbconvert_exporter": "python",
   "pygments_lexer": "ipython2",
   "version": "2.7.6"
  }
 },
 "nbformat": 4,
 "nbformat_minor": 0
}

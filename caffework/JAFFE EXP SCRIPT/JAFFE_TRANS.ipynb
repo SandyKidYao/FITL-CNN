{
 "cells": [
  {
   "cell_type": "code",
   "execution_count": 1,
   "metadata": {
    "collapsed": false
   },
   "outputs": [
    {
     "name": "stderr",
     "output_type": "stream",
     "text": [
      "../../python/caffe/pycaffe.py:13: RuntimeWarning: to-Python converter for boost::shared_ptr<caffe::Net<float> > already registered; second conversion method ignored.\n",
      "  from ._caffe import Net, SGDSolver, NesterovSolver, AdaGradSolver, \\\n",
      "../../python/caffe/pycaffe.py:13: RuntimeWarning: to-Python converter for boost::shared_ptr<caffe::Blob<float> > already registered; second conversion method ignored.\n",
      "  from ._caffe import Net, SGDSolver, NesterovSolver, AdaGradSolver, \\\n",
      "../../python/caffe/pycaffe.py:13: RuntimeWarning: to-Python converter for boost::shared_ptr<caffe::Solver<float> > already registered; second conversion method ignored.\n",
      "  from ._caffe import Net, SGDSolver, NesterovSolver, AdaGradSolver, \\\n"
     ]
    }
   ],
   "source": [
    "from pylab import *\n",
    "%matplotlib inline\n",
    "plt.rcParams['figure.figsize'] = (10, 10)        \n",
    "plt.rcParams['image.interpolation'] = 'nearest'  \n",
    "plt.rcParams['image.cmap'] = 'gray'  \n",
    "import sys\n",
    "caffe_root = '../../'\n",
    "sys.path.insert(0, caffe_root + 'python')\n",
    "import caffe"
   ]
  },
  {
   "cell_type": "code",
   "execution_count": 2,
   "metadata": {
    "collapsed": false
   },
   "outputs": [],
   "source": [
    "##### exp parameter setting\n",
    "# ER2ID+\n",
    "model_def = caffe_root + 'yyp/JAFER/train_val.prototxt'\n",
    "model_weights = caffe_root + 'yyp/JAFER/jaffe_er.caffemodel'\n",
    "target_solver =  caffe_root + 'yyp/JAFID/ftsolver.prototxt'\n",
    "\n",
    "#ID2ER+\n",
    "#model_def = caffe_root + 'yyp/JAFID/train_val.prototxt'\n",
    "#model_weights = caffe_root + 'yyp/JAFID/jaffe_id.caffemodel'\n",
    "#target_solver =  caffe_root + 'yyp/JAFER/ftsolver.prototxt'\n",
    "\n",
    "#ID2ID+\n",
    "#model_def = caffe_root + 'yyp/JAFID/train_val2.prototxt'\n",
    "#model_weights = caffe_root + 'yyp/JAFID/jaffe_id.caffemodel'\n",
    "#target_solver =  caffe_root + 'yyp/JAFID/ftsolver.prototxt'\n",
    "\n",
    "#ER2ER+\n",
    "#model_def = caffe_root + 'yyp/JAFER/train_val2.prototxt'\n",
    "#model_weights = caffe_root + 'yyp/JAFER/jaffe_er.caffemodel'\n",
    "#target_solver =  caffe_root + 'yyp/JAFER/ftsolver.prototxt'"
   ]
  },
  {
   "cell_type": "code",
   "execution_count": 3,
   "metadata": {
    "collapsed": true
   },
   "outputs": [],
   "source": [
    "###### function defination\n",
    "# polt train loss\n",
    "def visLoss(niter,train_loss):\n",
    "    _, ax1 = subplots()\n",
    "    ax1.plot(arange(niter), train_loss)\n",
    "    ax1.set_xlabel('iteration')\n",
    "    ax1.set_ylabel('train loss')\n",
    "# train\n",
    "def trainNet(solver,niter,dis_interval):\n",
    "    train_loss = zeros(niter)\n",
    "    for it in range(niter):\n",
    "        solver.step(1)\n",
    "        train_loss[it] = solver.net.blobs['loss'].data\n",
    "        if it % dis_interval == 0:\n",
    "            print 'Iteration', it, 'loss...'\n",
    "            print train_loss[it]\n",
    "    return train_loss"
   ]
  },
  {
   "cell_type": "code",
   "execution_count": 4,
   "metadata": {
    "collapsed": false
   },
   "outputs": [
    {
     "name": "stdout",
     "output_type": "stream",
     "text": [
      "source net structure\n",
      "conv1\t(20, 3, 5, 5) (20,)\n",
      "conv2\t(50, 20, 5, 5) (50,)\n",
      "ip1\t(500, 8450) (500,)\n",
      "ip2\t(100, 500) (100,)\n",
      "target net structure\n",
      "conv1\t(20, 3, 5, 5) (20,)\n",
      "conv2\t(50, 20, 5, 5) (50,)\n",
      "ip1\t(500, 8450) (500,)\n",
      "ip2\t(100, 500) (100,)\n"
     ]
    }
   ],
   "source": [
    "np.random.seed(42)\n",
    "caffe.set_device(0)\n",
    "caffe.set_mode_gpu()\n",
    "#####  load source net model\n",
    "SourceNet = caffe.Net(model_def, model_weights, caffe.TRAIN)\n",
    "print 'source net structure'\n",
    "for layer_name, param in SourceNet.params.iteritems():\n",
    "    print layer_name + '\\t' + str(param[0].data.shape), str(param[1].data.shape)\n",
    "#####  create target net solver\n",
    "solver = caffe.SGDSolver( target_solver)\n",
    "print 'target net structure'\n",
    "for layer_name, param in solver.net.params.iteritems():\n",
    "    print layer_name + '\\t' + str(param[0].data.shape), str(param[1].data.shape)"
   ]
  },
  {
   "cell_type": "code",
   "execution_count": 5,
   "metadata": {
    "collapsed": false
   },
   "outputs": [
    {
     "data": {
      "text/plain": [
       "{'loss': array(51.62632751464844, dtype=float32)}"
      ]
     },
     "execution_count": 5,
     "metadata": {},
     "output_type": "execute_result"
    }
   ],
   "source": [
    "#solver.net.copy_from(model_weights);\n",
    "# transfer conv1 conv2\n",
    "solver.net.params['conv1'][:] = SourceNet.params['conv1'][:]\n",
    "#solver.net.params['conv2'][:] = SourceNet.params['conv2'][:]\n",
    "##### test transferred net\n",
    "solver.net.forward() # train net"
   ]
  },
  {
   "cell_type": "code",
   "execution_count": 6,
   "metadata": {
    "collapsed": false
   },
   "outputs": [],
   "source": [
    "#niter = 101;\n",
    "#dis_interval = 10;\n",
    "#train_loss = trainNet(solver,niter,dis_interval)\n",
    "#visLoss(niter,train_loss)\n",
    "solver.solve();"
   ]
  },
  {
   "cell_type": "code",
   "execution_count": null,
   "metadata": {
    "collapsed": true
   },
   "outputs": [],
   "source": []
  }
 ],
 "metadata": {
  "kernelspec": {
   "display_name": "Python 2",
   "language": "python",
   "name": "python2"
  },
  "language_info": {
   "codemirror_mode": {
    "name": "ipython",
    "version": 2
   },
   "file_extension": ".py",
   "mimetype": "text/x-python",
   "name": "python",
   "nbconvert_exporter": "python",
   "pygments_lexer": "ipython2",
   "version": "2.7.6"
  }
 },
 "nbformat": 4,
 "nbformat_minor": 0
}

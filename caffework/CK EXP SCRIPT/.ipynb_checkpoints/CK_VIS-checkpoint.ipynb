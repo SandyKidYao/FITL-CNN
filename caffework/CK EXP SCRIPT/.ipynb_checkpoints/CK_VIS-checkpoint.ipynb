{
 "cells": [
  {
   "cell_type": "code",
   "execution_count": null,
   "metadata": {
    "collapsed": true
   },
   "outputs": [],
   "source": [
    "import numpy as np\n",
    "import matplotlib.pyplot as plt\n",
    "%matplotlib inline\n",
    "plt.rcParams['figure.figsize'] = (10, 10)\n",
    "plt.rcParams['image.interpolation'] = 'nearest'\n",
    "plt.rcParams['image.cmap'] = 'gray'\n",
    "import sys\n",
    "caffe_root = '../../'\n",
    "sys.path.insert(0, caffe_root + 'python')\n",
    "import caffe\n",
    "import scipy.io as sio"
   ]
  },
  {
   "cell_type": "code",
   "execution_count": null,
   "metadata": {
    "collapsed": true
   },
   "outputs": [],
   "source": [
    "def vis_square(data):\n",
    "    \"\"\"Take an array of shape (n, height, width) or (n, height, width, 3)\n",
    "       and visualize each (height, width) thing in a grid of size approx. sqrt(n) by sqrt(n)\"\"\"\n",
    "    \n",
    "    # normalize data for display\n",
    "    data = (data - data.min()) / (data.max() - data.min())\n",
    "    \n",
    "    # force the number of filters to be square\n",
    "    n = int(np.ceil(np.sqrt(data.shape[0])))\n",
    "    padding = (((0, n ** 2 - data.shape[0]),\n",
    "               (0, 1), (0, 1))                 # add some space between filters\n",
    "               + ((0, 0),) * (data.ndim - 3))  # don't pad the last dimension (if there is one)\n",
    "    data = np.pad(data, padding, mode='constant', constant_values=1)  # pad with ones (white)\n",
    "    \n",
    "    # tile the filters into an image\n",
    "    data = data.reshape((n, n) + data.shape[1:]).transpose((0, 2, 1, 3) + tuple(range(4, data.ndim + 1)))\n",
    "    data = data.reshape((n * data.shape[1], n * data.shape[3]) + data.shape[4:])\n",
    "    \n",
    "    plt.imshow(data); plt.axis('off')"
   ]
  },
  {
   "cell_type": "code",
   "execution_count": null,
   "metadata": {
    "collapsed": true
   },
   "outputs": [],
   "source": [
    "# use ER CNN\n",
    "svname = 'ck_er_vis.mat'\n",
    "model_def = caffe_root +'yyp/CKVIS/ER_c12c24c32.prototxt'\n",
    "model_weights = caffe_root+'yyp/CKER/CKER_c12c24c32_4000.caffemodel'\n",
    "# use ID CNN\n",
    "#svname = 'ck_id_vis.mat'\n",
    "#model_def = caffe_root +'yyp/CKVIS/ID_c12c24c32.prototxt'\n",
    "#model_weights = caffe_root+'yyp/CKID/CKID_c12c24c32_4000.caffemodel'"
   ]
  },
  {
   "cell_type": "code",
   "execution_count": null,
   "metadata": {
    "collapsed": true
   },
   "outputs": [],
   "source": [
    "caffe.set_mode_cpu()\n",
    "net = caffe.Net(model_def,model_weights,caffe.TEST)     \n",
    "net.forward()  \n",
    "for layer_name, blob in net.blobs.iteritems():\n",
    "    print layer_name + '\\t' + str(blob.data.shape)"
   ]
  },
  {
   "cell_type": "code",
   "execution_count": null,
   "metadata": {
    "collapsed": true
   },
   "outputs": [],
   "source": [
    "##### save output data\n",
    "c1data = net.blobs['conv1'].data\n",
    "c2data = net.blobs['conv2'].data\n",
    "c3data = net.blobs['conv3'].data\n",
    "p1data = net.blobs['pool1'].data\n",
    "p2data = net.blobs['pool2'].data\n",
    "p3data = net.blobs['pool3'].data\n",
    "i1data = net.blobs['ip1'].data\n",
    "i2data = net.blobs['ip2'].data\n",
    "labels = net.blobs['label'].data\n",
    "imgdata = net.blobs['data'].data\n",
    "sio.savemat(svname, {'labels':labels,'imgdata':imgdata,'conv1': c1data,'conv2': c2data,'conv3': c3data,'pool1': p1data,'pool2': p2data,'pool3': p3data,'ip1': i1data,'ip2': i2data})\n",
    "data=sio.loadmat(svname)"
   ]
  },
  {
   "cell_type": "code",
   "execution_count": null,
   "metadata": {
    "collapsed": true
   },
   "outputs": [],
   "source": [
    "feat = net.blobs['conv2'].data[1, :36]\n",
    "vis_square(feat)"
   ]
  },
  {
   "cell_type": "code",
   "execution_count": null,
   "metadata": {
    "collapsed": true
   },
   "outputs": [],
   "source": [
    "filters = net.params['conv1'][0].data\n",
    "vis_square(filters.transpose(0, 2, 3, 1))"
   ]
  }
 ],
 "metadata": {
  "kernelspec": {
   "display_name": "Python 2",
   "language": "python",
   "name": "python2"
  },
  "language_info": {
   "codemirror_mode": {
    "name": "ipython",
    "version": 2
   },
   "file_extension": ".py",
   "mimetype": "text/x-python",
   "name": "python",
   "nbconvert_exporter": "python",
   "pygments_lexer": "ipython2",
   "version": "2.7.6"
  }
 },
 "nbformat": 4,
 "nbformat_minor": 0
}

{
 "cells": [
  {
   "cell_type": "code",
   "execution_count": 1,
   "metadata": {
    "collapsed": false
   },
   "outputs": [
    {
     "name": "stderr",
     "output_type": "stream",
     "text": [
      "../python/caffe/pycaffe.py:13: RuntimeWarning: to-Python converter for boost::shared_ptr<caffe::Net<float> > already registered; second conversion method ignored.\n",
      "  from ._caffe import Net, SGDSolver, NesterovSolver, AdaGradSolver, \\\n",
      "../python/caffe/pycaffe.py:13: RuntimeWarning: to-Python converter for boost::shared_ptr<caffe::Blob<float> > already registered; second conversion method ignored.\n",
      "  from ._caffe import Net, SGDSolver, NesterovSolver, AdaGradSolver, \\\n",
      "../python/caffe/pycaffe.py:13: RuntimeWarning: to-Python converter for boost::shared_ptr<caffe::Solver<float> > already registered; second conversion method ignored.\n",
      "  from ._caffe import Net, SGDSolver, NesterovSolver, AdaGradSolver, \\\n"
     ]
    }
   ],
   "source": [
    "from pylab import *\n",
    "%matplotlib inline\n",
    "\n",
    "caffe_root = '../'\n",
    "import sys\n",
    "sys.path.insert(0,caffe_root + 'python')\n",
    "import caffe\n",
    "\n",
    "caffe.set_device(0)\n",
    "caffe.set_mode_gpu()\n",
    "solver_path = '/home/yupeng/caffe/yyp/CKER/solver.prototxt';\n",
    "niter = 2000\n",
    "\n",
    "def tr_model(solver_path,niter):\n",
    "    solver = None\n",
    "    solver = caffe.SGDSolver(solver_path);\n",
    "    for it in range(niter):\n",
    "        solver.step(1)\n",
    "    solver.test_nets[0].forward()\n",
    "    test_acc= solver.test_nets[0].blobs['accuracy'].data\n",
    "    print test_acc\n",
    "    return test_acc"
   ]
  },
  {
   "cell_type": "code",
   "execution_count": 2,
   "metadata": {
    "collapsed": false
   },
   "outputs": [
    {
     "name": "stdout",
     "output_type": "stream",
     "text": [
      "0.96875\n",
      "0.9375\n",
      "0.9375\n",
      "0.96875\n",
      "0.90625\n",
      "0.94375\n"
     ]
    }
   ],
   "source": [
    "sel_round = 10;\n",
    "test_accs = zeros(5);\n",
    "#for i in range(sel_round): tr_model(solver_path,niter);\n",
    "test_accs[0] = tr_model(solver_path,niter);\n",
    "test_accs[1] = tr_model(solver_path,niter);\n",
    "test_accs[2] = tr_model(solver_path,niter);\n",
    "test_accs[3] = tr_model(solver_path,niter);\n",
    "test_accs[4] = tr_model(solver_path,niter);\n",
    "\n",
    "print test_accs.mean();"
   ]
  },
  {
   "cell_type": "code",
   "execution_count": null,
   "metadata": {
    "collapsed": true
   },
   "outputs": [],
   "source": []
  }
 ],
 "metadata": {
  "kernelspec": {
   "display_name": "Python 2",
   "language": "python",
   "name": "python2"
  },
  "language_info": {
   "codemirror_mode": {
    "name": "ipython",
    "version": 2
   },
   "file_extension": ".py",
   "mimetype": "text/x-python",
   "name": "python",
   "nbconvert_exporter": "python",
   "pygments_lexer": "ipython2",
   "version": "2.7.6"
  }
 },
 "nbformat": 4,
 "nbformat_minor": 0
}
